{
  "nbformat": 4,
  "nbformat_minor": 0,
  "metadata": {
    "colab": {
      "provenance": []
    },
    "kernelspec": {
      "name": "python3",
      "display_name": "Python 3"
    },
    "language_info": {
      "name": "python"
    }
  },
  "cells": [
    {
      "cell_type": "markdown",
      "source": [
        "# Pandas Nedir ? "
      ],
      "metadata": {
        "id": "qtI57KR1s5xk"
      }
    },
    {
      "cell_type": "markdown",
      "source": [
        "* Pandas Açık kaynaklı, veri işleme, manipüle etme, temizleme vb pek çok işlemin yapılabildiği bir kütüphanedir.\n",
        "* Pandas kütüphanesi NumPy kütüphanesinin üzerine kurulmuştur.\n",
        "* Pandas elimizdeki bilgiyi(veriyi) şekillendirip işlememize ve veriden anlamlı sonuçlar çıkartmamıza olanak sağlar.\n",
        "* Pandas kütüphanesinin en temel elemanları Series ve DataFrame'dir.\n",
        "* Series ve DataFrame objelerini Excel tablolarına benzetebiliriz."
      ],
      "metadata": {
        "id": "VfVxKhtPs-4x"
      }
    },
    {
      "cell_type": "markdown",
      "source": [
        "## Series Oluşturma"
      ],
      "metadata": {
        "id": "kQdty0Vnt0zz"
      }
    },
    {
      "cell_type": "markdown",
      "source": [
        "### Liste Kullanarak Default Indexli Series Oluşturma"
      ],
      "metadata": {
        "id": "TNQ6-SWRznK2"
      }
    },
    {
      "cell_type": "code",
      "execution_count": 1,
      "metadata": {
        "id": "F9tYSUP2aBxK"
      },
      "outputs": [],
      "source": [
        "import numpy as np\n",
        "import pandas as pd"
      ]
    },
    {
      "cell_type": "code",
      "source": [
        "name_data = ['Emincan' , 'Murat' , 'Aslı' , 'Derya']"
      ],
      "metadata": {
        "id": "7frPR7rEz7sy"
      },
      "execution_count": 2,
      "outputs": []
    },
    {
      "cell_type": "code",
      "source": [
        "pd.Series(data = name_data)"
      ],
      "metadata": {
        "id": "fPFfhg0Gsask",
        "colab": {
          "base_uri": "https://localhost:8080/"
        },
        "outputId": "07611fba-c1ea-4ff1-fbe8-39b4df8bbc18"
      },
      "execution_count": 3,
      "outputs": [
        {
          "output_type": "execute_result",
          "data": {
            "text/plain": [
              "0    Emincan\n",
              "1      Murat\n",
              "2       Aslı\n",
              "3      Derya\n",
              "dtype: object"
            ]
          },
          "metadata": {},
          "execution_count": 3
        }
      ]
    },
    {
      "cell_type": "code",
      "source": [
        "name_ser = pd.Series(name_data)"
      ],
      "metadata": {
        "id": "70cGpARApqe9"
      },
      "execution_count": 4,
      "outputs": []
    },
    {
      "cell_type": "code",
      "source": [
        "name_ser[2]"
      ],
      "metadata": {
        "id": "8T4fbJUvpqZi",
        "colab": {
          "base_uri": "https://localhost:8080/",
          "height": 36
        },
        "outputId": "5a86e650-6032-4c99-96ac-8824dee61dbf"
      },
      "execution_count": 5,
      "outputs": [
        {
          "output_type": "execute_result",
          "data": {
            "text/plain": [
              "'Aslı'"
            ],
            "application/vnd.google.colaboratory.intrinsic+json": {
              "type": "string"
            }
          },
          "metadata": {},
          "execution_count": 5
        }
      ]
    },
    {
      "cell_type": "code",
      "source": [
        "name_ser[3]"
      ],
      "metadata": {
        "id": "7ICTC3FFpu8g",
        "colab": {
          "base_uri": "https://localhost:8080/",
          "height": 36
        },
        "outputId": "533758db-8dfd-47f5-fc5a-ce9f1c6d9b0f"
      },
      "execution_count": 6,
      "outputs": [
        {
          "output_type": "execute_result",
          "data": {
            "text/plain": [
              "'Derya'"
            ],
            "application/vnd.google.colaboratory.intrinsic+json": {
              "type": "string"
            }
          },
          "metadata": {},
          "execution_count": 6
        }
      ]
    },
    {
      "cell_type": "markdown",
      "source": [
        "### Labeled Indexlerle Series Oluşturma"
      ],
      "metadata": {
        "id": "vWsgwFU-0q8k"
      }
    },
    {
      "cell_type": "code",
      "source": [
        "my_idx = ['Rize' , 'İstanbul' , 'İzmir' , 'Ankara']"
      ],
      "metadata": {
        "id": "ORr_HQn10mL7"
      },
      "execution_count": 7,
      "outputs": []
    },
    {
      "cell_type": "code",
      "source": [
        "my_data = [400000 , 18000000 , 4000000 , 6000000]"
      ],
      "metadata": {
        "id": "jB1xN4tR02FW"
      },
      "execution_count": 8,
      "outputs": []
    },
    {
      "cell_type": "code",
      "source": [
        "city_ser = pd.Series(data= my_data , index= my_idx )\n",
        "city_ser"
      ],
      "metadata": {
        "colab": {
          "base_uri": "https://localhost:8080/"
        },
        "id": "kBI_8qaN1APN",
        "outputId": "db7fc3c3-a152-475c-bc08-aae2f44c10f6"
      },
      "execution_count": 9,
      "outputs": [
        {
          "output_type": "execute_result",
          "data": {
            "text/plain": [
              "Rize          400000\n",
              "İstanbul    18000000\n",
              "İzmir        4000000\n",
              "Ankara       6000000\n",
              "dtype: int64"
            ]
          },
          "metadata": {},
          "execution_count": 9
        }
      ]
    },
    {
      "cell_type": "code",
      "source": [
        "city_ser['İstanbul']"
      ],
      "metadata": {
        "colab": {
          "base_uri": "https://localhost:8080/"
        },
        "id": "I-AIsC-C1JDO",
        "outputId": "fc7f0d3e-ad0b-4755-cf42-ed8b94bba03c"
      },
      "execution_count": 10,
      "outputs": [
        {
          "output_type": "execute_result",
          "data": {
            "text/plain": [
              "18000000"
            ]
          },
          "metadata": {},
          "execution_count": 10
        }
      ]
    },
    {
      "cell_type": "code",
      "source": [
        "city_ser[3]"
      ],
      "metadata": {
        "colab": {
          "base_uri": "https://localhost:8080/"
        },
        "id": "mlq76SDm1Rhu",
        "outputId": "f67b2a1d-d82b-4662-a2df-c1a22f5b206f"
      },
      "execution_count": 11,
      "outputs": [
        {
          "output_type": "execute_result",
          "data": {
            "text/plain": [
              "6000000"
            ]
          },
          "metadata": {},
          "execution_count": 11
        }
      ]
    },
    {
      "cell_type": "markdown",
      "source": [
        "## Array Kullanarak Series Oluşturma"
      ],
      "metadata": {
        "id": "J_k5bGMSxYsg"
      }
    },
    {
      "cell_type": "code",
      "source": [
        "my_data = np.random.randint(0,100,4)\n",
        "my_data"
      ],
      "metadata": {
        "colab": {
          "base_uri": "https://localhost:8080/"
        },
        "id": "vmwodscvxatK",
        "outputId": "6cb7bdfb-1bfe-4db5-bb16-1d7aed9f44d2"
      },
      "execution_count": 12,
      "outputs": [
        {
          "output_type": "execute_result",
          "data": {
            "text/plain": [
              "array([33, 65, 14, 72])"
            ]
          },
          "metadata": {},
          "execution_count": 12
        }
      ]
    },
    {
      "cell_type": "code",
      "source": [
        "random_ser = pd.Series(my_data)\n",
        "random_ser"
      ],
      "metadata": {
        "colab": {
          "base_uri": "https://localhost:8080/"
        },
        "id": "LQ4VJifgxavb",
        "outputId": "07cc826e-5bdf-40b4-f4fb-0ffebf257d2e"
      },
      "execution_count": 13,
      "outputs": [
        {
          "output_type": "execute_result",
          "data": {
            "text/plain": [
              "0    33\n",
              "1    65\n",
              "2    14\n",
              "3    72\n",
              "dtype: int64"
            ]
          },
          "metadata": {},
          "execution_count": 13
        }
      ]
    },
    {
      "cell_type": "markdown",
      "source": [
        "### Labelled Indexle Series Oluşturma"
      ],
      "metadata": {
        "id": "1W3SJ1_9yIfP"
      }
    },
    {
      "cell_type": "code",
      "source": [
        "random_nums = np.random.randint(0,10,4)"
      ],
      "metadata": {
        "id": "9alwnPaOxax1"
      },
      "execution_count": 14,
      "outputs": []
    },
    {
      "cell_type": "code",
      "source": [
        "my_idx = ['Emincan' , 'Onur' , 'Deniz' , 'Havva']"
      ],
      "metadata": {
        "id": "TlikOfrSyXJt"
      },
      "execution_count": 15,
      "outputs": []
    },
    {
      "cell_type": "code",
      "source": [
        "pd.Series(random_nums , my_idx)"
      ],
      "metadata": {
        "colab": {
          "base_uri": "https://localhost:8080/"
        },
        "id": "-uYaajFLyXNv",
        "outputId": "9e91cfdf-6a13-4972-ef42-60fd389ee861"
      },
      "execution_count": 16,
      "outputs": [
        {
          "output_type": "execute_result",
          "data": {
            "text/plain": [
              "Emincan    0\n",
              "Onur       7\n",
              "Deniz      5\n",
              "Havva      8\n",
              "dtype: int64"
            ]
          },
          "metadata": {},
          "execution_count": 16
        }
      ]
    },
    {
      "cell_type": "markdown",
      "source": [
        "## Sözlüklerle Series Oluşturma"
      ],
      "metadata": {
        "id": "MURjSasozZvS"
      }
    },
    {
      "cell_type": "code",
      "source": [
        "age_ser = pd.Series({\n",
        "    'Emincan' : 26,\n",
        "    'Yıldız' : 20,\n",
        "    'Aslı' : 18,\n",
        "    'Kerem' : 25\n",
        "})\n",
        "\n",
        "age_ser"
      ],
      "metadata": {
        "colab": {
          "base_uri": "https://localhost:8080/"
        },
        "id": "9KZ2WPu_zb4G",
        "outputId": "be26b9b0-d191-41f6-f5d1-5846683d88e0"
      },
      "execution_count": 17,
      "outputs": [
        {
          "output_type": "execute_result",
          "data": {
            "text/plain": [
              "Emincan    26\n",
              "Yıldız     20\n",
              "Aslı       18\n",
              "Kerem      25\n",
              "dtype: int64"
            ]
          },
          "metadata": {},
          "execution_count": 17
        }
      ]
    },
    {
      "cell_type": "markdown",
      "source": [
        "## Serieslerin Dtypeları"
      ],
      "metadata": {
        "id": "NP0osQZM13my"
      }
    },
    {
      "cell_type": "code",
      "source": [
        "height_ser = pd.Series({\n",
        "    'Emincan' : 1.8,\n",
        "    'Yıldız' : 1.56,\n",
        "    'Aslı' : 1.72,\n",
        "    'Kerem' : 1.94\n",
        "})\n",
        "\n",
        "height_ser"
      ],
      "metadata": {
        "colab": {
          "base_uri": "https://localhost:8080/"
        },
        "id": "aBNUvqBUzb6f",
        "outputId": "43c3b8f2-05bd-4afe-fe6a-19358a8cc1a9"
      },
      "execution_count": 18,
      "outputs": [
        {
          "output_type": "execute_result",
          "data": {
            "text/plain": [
              "Emincan    1.80\n",
              "Yıldız     1.56\n",
              "Aslı       1.72\n",
              "Kerem      1.94\n",
              "dtype: float64"
            ]
          },
          "metadata": {},
          "execution_count": 18
        }
      ]
    },
    {
      "cell_type": "code",
      "source": [
        "city_ser = pd.Series({\n",
        "    'Emincan' : 'Rize',\n",
        "    'Yıldız' : 'İstanbul',\n",
        "    'Aslı' : 'Samsun',\n",
        "    'Kerem' : 'Artvin'\n",
        "})\n",
        "\n",
        "city_ser"
      ],
      "metadata": {
        "colab": {
          "base_uri": "https://localhost:8080/"
        },
        "id": "hlomiy_x0zTK",
        "outputId": "5e03c7da-714a-4a68-eb3d-66ea768342bc"
      },
      "execution_count": 19,
      "outputs": [
        {
          "output_type": "execute_result",
          "data": {
            "text/plain": [
              "Emincan        Rize\n",
              "Yıldız     İstanbul\n",
              "Aslı         Samsun\n",
              "Kerem        Artvin\n",
              "dtype: object"
            ]
          },
          "metadata": {},
          "execution_count": 19
        }
      ]
    },
    {
      "cell_type": "code",
      "source": [
        "bool_ser = pd.Series({\n",
        "    'Emincan' : True,\n",
        "    'Yıldız' : False,\n",
        "    'Aslı' : True,\n",
        "    'Kerem' : False\n",
        "})\n",
        "\n",
        "bool_ser"
      ],
      "metadata": {
        "colab": {
          "base_uri": "https://localhost:8080/"
        },
        "id": "omb_8SHL0zVn",
        "outputId": "b6eebad9-7684-47d3-b99e-ab6378bc77a7"
      },
      "execution_count": 20,
      "outputs": [
        {
          "output_type": "execute_result",
          "data": {
            "text/plain": [
              "Emincan     True\n",
              "Yıldız     False\n",
              "Aslı        True\n",
              "Kerem      False\n",
              "dtype: bool"
            ]
          },
          "metadata": {},
          "execution_count": 20
        }
      ]
    },
    {
      "cell_type": "code",
      "source": [
        "# datetime64\n",
        "# category\n",
        "# complex"
      ],
      "metadata": {
        "id": "iaU0zjHL0zX7"
      },
      "execution_count": 21,
      "outputs": []
    },
    {
      "cell_type": "markdown",
      "source": [
        "### Serieslerde Slicing(Dilimleme)"
      ],
      "metadata": {
        "id": "cJAOehBzH0PD"
      }
    },
    {
      "cell_type": "code",
      "source": [
        "age_ser"
      ],
      "metadata": {
        "colab": {
          "base_uri": "https://localhost:8080/"
        },
        "id": "ubm3Gx-9zb9J",
        "outputId": "0698b1f0-893b-46e4-8792-9f832df9923a"
      },
      "execution_count": 22,
      "outputs": [
        {
          "output_type": "execute_result",
          "data": {
            "text/plain": [
              "Emincan    26\n",
              "Yıldız     20\n",
              "Aslı       18\n",
              "Kerem      25\n",
              "dtype: int64"
            ]
          },
          "metadata": {},
          "execution_count": 22
        }
      ]
    },
    {
      "cell_type": "code",
      "source": [
        "age_ser['Aslı']"
      ],
      "metadata": {
        "colab": {
          "base_uri": "https://localhost:8080/"
        },
        "id": "oD24VbfGH7nv",
        "outputId": "171334d7-7ce2-4e2b-9984-fe7f7f84d677"
      },
      "execution_count": 23,
      "outputs": [
        {
          "output_type": "execute_result",
          "data": {
            "text/plain": [
              "18"
            ]
          },
          "metadata": {},
          "execution_count": 23
        }
      ]
    },
    {
      "cell_type": "code",
      "source": [
        "age_ser['Yıldız' : 'Aslı']"
      ],
      "metadata": {
        "colab": {
          "base_uri": "https://localhost:8080/"
        },
        "id": "-7he05ayH7rO",
        "outputId": "664e7bca-18f4-4b7e-d621-82eb2cf9b0c9"
      },
      "execution_count": 24,
      "outputs": [
        {
          "output_type": "execute_result",
          "data": {
            "text/plain": [
              "Yıldız    20\n",
              "Aslı      18\n",
              "dtype: int64"
            ]
          },
          "metadata": {},
          "execution_count": 24
        }
      ]
    },
    {
      "cell_type": "code",
      "source": [
        "age_ser[1:2]"
      ],
      "metadata": {
        "colab": {
          "base_uri": "https://localhost:8080/"
        },
        "id": "oK40_rQgIJf8",
        "outputId": "f107a748-ec9b-4957-edca-07c49fc6886c"
      },
      "execution_count": 25,
      "outputs": [
        {
          "output_type": "execute_result",
          "data": {
            "text/plain": [
              "Yıldız    20\n",
              "dtype: int64"
            ]
          },
          "metadata": {},
          "execution_count": 25
        }
      ]
    },
    {
      "cell_type": "markdown",
      "source": [
        "## Serilerle 4 İşlem"
      ],
      "metadata": {
        "id": "0F0c4DxVPrB2"
      }
    },
    {
      "cell_type": "code",
      "source": [
        "h1 = pd.Series({'Fenerbahce' : 38 , 'Galatasaray' : 42 , 'BasakSehir' : 34 , 'Besiktas' : 33})\n",
        "h2 = pd.Series({'Fenerbahce' : 25 , 'Galatasaray' : 27 , 'BasakSehir' : 11 , 'Besiktas' : 26})"
      ],
      "metadata": {
        "id": "Kq_XencBPtKO"
      },
      "execution_count": 26,
      "outputs": []
    },
    {
      "cell_type": "code",
      "source": [
        "h1"
      ],
      "metadata": {
        "colab": {
          "base_uri": "https://localhost:8080/"
        },
        "id": "6JDOfyY1PtMs",
        "outputId": "6e11d645-1060-4482-f00d-6211cc6ea3d9"
      },
      "execution_count": 27,
      "outputs": [
        {
          "output_type": "execute_result",
          "data": {
            "text/plain": [
              "Fenerbahce     38\n",
              "Galatasaray    42\n",
              "BasakSehir     34\n",
              "Besiktas       33\n",
              "dtype: int64"
            ]
          },
          "metadata": {},
          "execution_count": 27
        }
      ]
    },
    {
      "cell_type": "code",
      "source": [
        "h2"
      ],
      "metadata": {
        "colab": {
          "base_uri": "https://localhost:8080/"
        },
        "id": "8_NzD3ICPtPI",
        "outputId": "91109397-2ba0-4e88-bf54-93072d5a6d43"
      },
      "execution_count": 28,
      "outputs": [
        {
          "output_type": "execute_result",
          "data": {
            "text/plain": [
              "Fenerbahce     25\n",
              "Galatasaray    27\n",
              "BasakSehir     11\n",
              "Besiktas       26\n",
              "dtype: int64"
            ]
          },
          "metadata": {},
          "execution_count": 28
        }
      ]
    },
    {
      "cell_type": "code",
      "source": [
        "h1 + h2"
      ],
      "metadata": {
        "colab": {
          "base_uri": "https://localhost:8080/"
        },
        "id": "4H4DVuUVPtRv",
        "outputId": "d4f9f782-888a-4bf8-d419-d5770dc91c17"
      },
      "execution_count": 29,
      "outputs": [
        {
          "output_type": "execute_result",
          "data": {
            "text/plain": [
              "Fenerbahce     63\n",
              "Galatasaray    69\n",
              "BasakSehir     45\n",
              "Besiktas       59\n",
              "dtype: int64"
            ]
          },
          "metadata": {},
          "execution_count": 29
        }
      ]
    },
    {
      "cell_type": "code",
      "source": [
        "h1 - h2"
      ],
      "metadata": {
        "colab": {
          "base_uri": "https://localhost:8080/"
        },
        "id": "-emNP3CdQMwe",
        "outputId": "2d5917eb-ea44-4bb7-c4d4-729409ee4222"
      },
      "execution_count": 30,
      "outputs": [
        {
          "output_type": "execute_result",
          "data": {
            "text/plain": [
              "Fenerbahce     13\n",
              "Galatasaray    15\n",
              "BasakSehir     23\n",
              "Besiktas        7\n",
              "dtype: int64"
            ]
          },
          "metadata": {},
          "execution_count": 30
        }
      ]
    },
    {
      "cell_type": "code",
      "source": [
        "h1 * h2"
      ],
      "metadata": {
        "colab": {
          "base_uri": "https://localhost:8080/"
        },
        "id": "PQE-3LcuQUcy",
        "outputId": "32622e05-ab46-4071-b051-2cffdcbca8c9"
      },
      "execution_count": 31,
      "outputs": [
        {
          "output_type": "execute_result",
          "data": {
            "text/plain": [
              "Fenerbahce      950\n",
              "Galatasaray    1134\n",
              "BasakSehir      374\n",
              "Besiktas        858\n",
              "dtype: int64"
            ]
          },
          "metadata": {},
          "execution_count": 31
        }
      ]
    },
    {
      "cell_type": "code",
      "source": [
        "h1 / h2"
      ],
      "metadata": {
        "colab": {
          "base_uri": "https://localhost:8080/"
        },
        "id": "8sR9W24AQUfT",
        "outputId": "38814cbf-2bdd-4b88-f8a6-b52b37c6948d"
      },
      "execution_count": 32,
      "outputs": [
        {
          "output_type": "execute_result",
          "data": {
            "text/plain": [
              "Fenerbahce     1.520000\n",
              "Galatasaray    1.555556\n",
              "BasakSehir     3.090909\n",
              "Besiktas       1.269231\n",
              "dtype: float64"
            ]
          },
          "metadata": {},
          "execution_count": 32
        }
      ]
    },
    {
      "cell_type": "code",
      "source": [
        "h1 // h2"
      ],
      "metadata": {
        "colab": {
          "base_uri": "https://localhost:8080/"
        },
        "id": "LJ2h8mX5QUht",
        "outputId": "5ba4b4e1-3a0e-4fcc-fffa-24a16df92c45"
      },
      "execution_count": 33,
      "outputs": [
        {
          "output_type": "execute_result",
          "data": {
            "text/plain": [
              "Fenerbahce     1\n",
              "Galatasaray    1\n",
              "BasakSehir     3\n",
              "Besiktas       1\n",
              "dtype: int64"
            ]
          },
          "metadata": {},
          "execution_count": 33
        }
      ]
    },
    {
      "cell_type": "code",
      "source": [
        "h1.add(h2)"
      ],
      "metadata": {
        "colab": {
          "base_uri": "https://localhost:8080/"
        },
        "id": "kzRw3C5oO44u",
        "outputId": "8a1aa0c0-3ab9-4951-fc94-8bcc68468e3d"
      },
      "execution_count": 34,
      "outputs": [
        {
          "output_type": "execute_result",
          "data": {
            "text/plain": [
              "Fenerbahce     63\n",
              "Galatasaray    69\n",
              "BasakSehir     45\n",
              "Besiktas       59\n",
              "dtype: int64"
            ]
          },
          "metadata": {},
          "execution_count": 34
        }
      ]
    },
    {
      "cell_type": "code",
      "source": [
        "h1.subtract(h2)"
      ],
      "metadata": {
        "colab": {
          "base_uri": "https://localhost:8080/"
        },
        "id": "BIE2g8vDQgx8",
        "outputId": "ea242778-16e7-40ce-bf89-e01b1c68161b"
      },
      "execution_count": 35,
      "outputs": [
        {
          "output_type": "execute_result",
          "data": {
            "text/plain": [
              "Fenerbahce     13\n",
              "Galatasaray    15\n",
              "BasakSehir     23\n",
              "Besiktas        7\n",
              "dtype: int64"
            ]
          },
          "metadata": {},
          "execution_count": 35
        }
      ]
    },
    {
      "cell_type": "code",
      "source": [
        "h1.multiply(h2)"
      ],
      "metadata": {
        "colab": {
          "base_uri": "https://localhost:8080/"
        },
        "id": "Pu0azMdVQg0Y",
        "outputId": "7ec33771-789a-403b-a60f-b581c63eccc8"
      },
      "execution_count": 36,
      "outputs": [
        {
          "output_type": "execute_result",
          "data": {
            "text/plain": [
              "Fenerbahce      950\n",
              "Galatasaray    1134\n",
              "BasakSehir      374\n",
              "Besiktas        858\n",
              "dtype: int64"
            ]
          },
          "metadata": {},
          "execution_count": 36
        }
      ]
    },
    {
      "cell_type": "code",
      "source": [
        "h1 = pd.Series({'Fenerbahce' : 38 , 'Galatasaray' : 42 , 'BasakSehir' : 34 , 'Besiktas' : 33 , 'Hatayspor' : 23})\n",
        "h2 = pd.Series({'Fenerbahce' : 25 , 'Galatasaray' : 27 , 'BasakSehir' : 11 , 'Besiktas' : 26})"
      ],
      "metadata": {
        "id": "nTXA6VwPQg26"
      },
      "execution_count": 37,
      "outputs": []
    },
    {
      "cell_type": "code",
      "source": [
        "h1"
      ],
      "metadata": {
        "colab": {
          "base_uri": "https://localhost:8080/"
        },
        "id": "0ipKyf4zQg5R",
        "outputId": "328bd376-fad0-4c4c-fff9-04ed36f5ec12"
      },
      "execution_count": 38,
      "outputs": [
        {
          "output_type": "execute_result",
          "data": {
            "text/plain": [
              "Fenerbahce     38\n",
              "Galatasaray    42\n",
              "BasakSehir     34\n",
              "Besiktas       33\n",
              "Hatayspor      23\n",
              "dtype: int64"
            ]
          },
          "metadata": {},
          "execution_count": 38
        }
      ]
    },
    {
      "cell_type": "code",
      "source": [
        "h2"
      ],
      "metadata": {
        "colab": {
          "base_uri": "https://localhost:8080/"
        },
        "id": "yYSKO__HS2TG",
        "outputId": "e033b5f4-38ff-4cf8-f7d9-19a2e7c8c3d2"
      },
      "execution_count": 39,
      "outputs": [
        {
          "output_type": "execute_result",
          "data": {
            "text/plain": [
              "Fenerbahce     25\n",
              "Galatasaray    27\n",
              "BasakSehir     11\n",
              "Besiktas       26\n",
              "dtype: int64"
            ]
          },
          "metadata": {},
          "execution_count": 39
        }
      ]
    },
    {
      "cell_type": "code",
      "source": [
        "h1 + h2"
      ],
      "metadata": {
        "colab": {
          "base_uri": "https://localhost:8080/"
        },
        "id": "W1mmJHnrS2uQ",
        "outputId": "6e0f0eaa-63e1-4728-fbe9-5a151b4eaa29"
      },
      "execution_count": 40,
      "outputs": [
        {
          "output_type": "execute_result",
          "data": {
            "text/plain": [
              "BasakSehir     45.0\n",
              "Besiktas       59.0\n",
              "Fenerbahce     63.0\n",
              "Galatasaray    69.0\n",
              "Hatayspor       NaN\n",
              "dtype: float64"
            ]
          },
          "metadata": {},
          "execution_count": 40
        }
      ]
    },
    {
      "cell_type": "code",
      "source": [
        "h1.add(h2 , fill_value = 10)"
      ],
      "metadata": {
        "colab": {
          "base_uri": "https://localhost:8080/"
        },
        "id": "bGV5UMUmS4yc",
        "outputId": "e45bbe40-4388-42a1-ad6a-f65f9c84f9ac"
      },
      "execution_count": 41,
      "outputs": [
        {
          "output_type": "execute_result",
          "data": {
            "text/plain": [
              "BasakSehir     45.0\n",
              "Besiktas       59.0\n",
              "Fenerbahce     63.0\n",
              "Galatasaray    69.0\n",
              "Hatayspor      33.0\n",
              "dtype: float64"
            ]
          },
          "metadata": {},
          "execution_count": 41
        }
      ]
    },
    {
      "cell_type": "markdown",
      "source": [
        "# Serilerde Yaygın Kullanılan Methodlar"
      ],
      "metadata": {
        "id": "uefvrGR7hiPz"
      }
    },
    {
      "cell_type": "code",
      "source": [
        "my_data = np.random.randint(150,200 , 100)"
      ],
      "metadata": {
        "id": "VoZ4ZZ-dhWlT"
      },
      "execution_count": 53,
      "outputs": []
    },
    {
      "cell_type": "code",
      "source": [
        "height_ser = pd.Series(my_data)\n",
        "height_ser"
      ],
      "metadata": {
        "colab": {
          "base_uri": "https://localhost:8080/"
        },
        "id": "73pzDG8dhWng",
        "outputId": "675f97a7-8b5e-4820-e2d1-79cc79bc5fc2"
      },
      "execution_count": 54,
      "outputs": [
        {
          "output_type": "execute_result",
          "data": {
            "text/plain": [
              "0     156\n",
              "1     160\n",
              "2     173\n",
              "3     185\n",
              "4     174\n",
              "     ... \n",
              "95    163\n",
              "96    158\n",
              "97    152\n",
              "98    179\n",
              "99    178\n",
              "Length: 100, dtype: int64"
            ]
          },
          "metadata": {},
          "execution_count": 54
        }
      ]
    },
    {
      "cell_type": "code",
      "source": [
        "height_ser.head(3)"
      ],
      "metadata": {
        "colab": {
          "base_uri": "https://localhost:8080/"
        },
        "id": "240xyyhahWpp",
        "outputId": "211e43b4-c542-43fe-ba66-a02dfae75922"
      },
      "execution_count": 56,
      "outputs": [
        {
          "output_type": "execute_result",
          "data": {
            "text/plain": [
              "0    156\n",
              "1    160\n",
              "2    173\n",
              "dtype: int64"
            ]
          },
          "metadata": {},
          "execution_count": 56
        }
      ]
    },
    {
      "cell_type": "code",
      "source": [
        "height_ser.tail(2)"
      ],
      "metadata": {
        "id": "1fwX-LoQS43Z",
        "colab": {
          "base_uri": "https://localhost:8080/"
        },
        "outputId": "767c4d97-1cf7-4c37-f237-010b26cbc5cf"
      },
      "execution_count": 57,
      "outputs": [
        {
          "output_type": "execute_result",
          "data": {
            "text/plain": [
              "98    179\n",
              "99    178\n",
              "dtype: int64"
            ]
          },
          "metadata": {},
          "execution_count": 57
        }
      ]
    },
    {
      "cell_type": "code",
      "source": [
        "height_ser.describe() # Serimizin istatistiksel bilgilerini döndürür.(Ör. Ortalamasını, standart sapmasını, min,max vb.)"
      ],
      "metadata": {
        "id": "xKfNMbcRS453",
        "colab": {
          "base_uri": "https://localhost:8080/"
        },
        "outputId": "0421eec3-578b-4a06-c67a-cecb2e3bf6ff"
      },
      "execution_count": 58,
      "outputs": [
        {
          "output_type": "execute_result",
          "data": {
            "text/plain": [
              "count    100.000000\n",
              "mean     174.300000\n",
              "std       14.096708\n",
              "min      150.000000\n",
              "25%      162.750000\n",
              "50%      174.000000\n",
              "75%      185.250000\n",
              "max      199.000000\n",
              "dtype: float64"
            ]
          },
          "metadata": {},
          "execution_count": 58
        }
      ]
    },
    {
      "cell_type": "code",
      "source": [
        "height_ser.value_counts() # Bir seri içinde farklı değerlerden kaçar tane olduğunun bilgisini verir."
      ],
      "metadata": {
        "id": "jfi8iZeNS48E",
        "colab": {
          "base_uri": "https://localhost:8080/"
        },
        "outputId": "a87e2902-5542-4c05-981a-3c38b4a32bd7"
      },
      "execution_count": 61,
      "outputs": [
        {
          "output_type": "execute_result",
          "data": {
            "text/plain": [
              "163    5\n",
              "158    4\n",
              "174    4\n",
              "198    3\n",
              "184    3\n",
              "194    3\n",
              "178    3\n",
              "191    3\n",
              "157    3\n",
              "167    3\n",
              "181    3\n",
              "171    3\n",
              "168    3\n",
              "176    3\n",
              "185    3\n",
              "153    2\n",
              "189    2\n",
              "172    2\n",
              "188    2\n",
              "152    2\n",
              "175    2\n",
              "190    2\n",
              "162    2\n",
              "197    2\n",
              "187    2\n",
              "161    2\n",
              "150    2\n",
              "183    2\n",
              "199    2\n",
              "177    2\n",
              "182    2\n",
              "192    2\n",
              "151    2\n",
              "159    2\n",
              "170    2\n",
              "155    1\n",
              "166    1\n",
              "196    1\n",
              "156    1\n",
              "165    1\n",
              "169    1\n",
              "154    1\n",
              "160    1\n",
              "186    1\n",
              "173    1\n",
              "179    1\n",
              "dtype: int64"
            ]
          },
          "metadata": {},
          "execution_count": 61
        }
      ]
    },
    {
      "cell_type": "code",
      "source": [
        "height_ser.unique()"
      ],
      "metadata": {
        "colab": {
          "base_uri": "https://localhost:8080/"
        },
        "id": "dls3L56ZitUM",
        "outputId": "02bacf2e-10fb-4429-b196-7a21191ca892"
      },
      "execution_count": 62,
      "outputs": [
        {
          "output_type": "execute_result",
          "data": {
            "text/plain": [
              "array([156, 160, 173, 185, 174, 159, 176, 151, 171, 181, 192, 182, 177,\n",
              "       186, 183, 150, 161, 158, 187, 190, 162, 184, 167, 175, 188, 194,\n",
              "       154, 178, 191, 189, 169, 157, 153, 198, 168, 172, 163, 170, 165,\n",
              "       197, 166, 155, 152, 199, 196, 179])"
            ]
          },
          "metadata": {},
          "execution_count": 62
        }
      ]
    },
    {
      "cell_type": "code",
      "source": [
        "height_ser.sort_values()"
      ],
      "metadata": {
        "colab": {
          "base_uri": "https://localhost:8080/"
        },
        "id": "yGMsOMyri45U",
        "outputId": "d943c0bc-b467-47af-904d-935b87b70290"
      },
      "execution_count": 64,
      "outputs": [
        {
          "output_type": "execute_result",
          "data": {
            "text/plain": [
              "60    150\n",
              "16    150\n",
              "7     151\n",
              "84    151\n",
              "97    152\n",
              "     ... \n",
              "74    198\n",
              "44    198\n",
              "45    198\n",
              "86    199\n",
              "90    199\n",
              "Length: 100, dtype: int64"
            ]
          },
          "metadata": {},
          "execution_count": 64
        }
      ]
    },
    {
      "cell_type": "code",
      "source": [
        "height_ser.sort_values(ascending = False)"
      ],
      "metadata": {
        "colab": {
          "base_uri": "https://localhost:8080/"
        },
        "id": "jjqSqG-3i9DE",
        "outputId": "4ac2c4c0-8abd-4925-d1a0-3e30f4bab2de"
      },
      "execution_count": 65,
      "outputs": [
        {
          "output_type": "execute_result",
          "data": {
            "text/plain": [
              "86    199\n",
              "90    199\n",
              "45    198\n",
              "74    198\n",
              "44    198\n",
              "     ... \n",
              "97    152\n",
              "84    151\n",
              "7     151\n",
              "16    150\n",
              "60    150\n",
              "Length: 100, dtype: int64"
            ]
          },
          "metadata": {},
          "execution_count": 65
        }
      ]
    },
    {
      "cell_type": "code",
      "source": [
        "height_ser.isna()"
      ],
      "metadata": {
        "colab": {
          "base_uri": "https://localhost:8080/"
        },
        "id": "zFziYwvyjPtl",
        "outputId": "98fbbc0b-1b3f-4d70-e892-4d75dae2cde8"
      },
      "execution_count": 67,
      "outputs": [
        {
          "output_type": "execute_result",
          "data": {
            "text/plain": [
              "0     False\n",
              "1     False\n",
              "2     False\n",
              "3     False\n",
              "4     False\n",
              "      ...  \n",
              "95    False\n",
              "96    False\n",
              "97    False\n",
              "98    False\n",
              "99    False\n",
              "Length: 100, dtype: bool"
            ]
          },
          "metadata": {},
          "execution_count": 67
        }
      ]
    },
    {
      "cell_type": "code",
      "source": [
        "height_ser.fillna()"
      ],
      "metadata": {
        "id": "itpM49ZMjVZc"
      },
      "execution_count": null,
      "outputs": []
    },
    {
      "cell_type": "code",
      "source": [
        "def arttırAzalt(x):\n",
        "  if x > 175:\n",
        "    return x-10\n",
        "  else :\n",
        "    return x+10"
      ],
      "metadata": {
        "id": "Q55H8F1TjtNU"
      },
      "execution_count": 71,
      "outputs": []
    },
    {
      "cell_type": "code",
      "source": [
        "height_ser"
      ],
      "metadata": {
        "colab": {
          "base_uri": "https://localhost:8080/"
        },
        "id": "Ru4IwM6Njham",
        "outputId": "d4a59daa-bd7d-4499-e9d9-f391a88a5413"
      },
      "execution_count": 70,
      "outputs": [
        {
          "output_type": "execute_result",
          "data": {
            "text/plain": [
              "0     156\n",
              "1     160\n",
              "2     173\n",
              "3     185\n",
              "4     174\n",
              "     ... \n",
              "95    163\n",
              "96    158\n",
              "97    152\n",
              "98    179\n",
              "99    178\n",
              "Length: 100, dtype: int64"
            ]
          },
          "metadata": {},
          "execution_count": 70
        }
      ]
    },
    {
      "cell_type": "code",
      "source": [
        "height_ser.apply(arttırAzalt)"
      ],
      "metadata": {
        "colab": {
          "base_uri": "https://localhost:8080/"
        },
        "id": "r9ItUPC0jhd1",
        "outputId": "b7601df1-370a-4ce9-d4bc-b65feb4d9c01"
      },
      "execution_count": 72,
      "outputs": [
        {
          "output_type": "execute_result",
          "data": {
            "text/plain": [
              "0     166\n",
              "1     170\n",
              "2     183\n",
              "3     175\n",
              "4     184\n",
              "     ... \n",
              "95    173\n",
              "96    168\n",
              "97    162\n",
              "98    169\n",
              "99    168\n",
              "Length: 100, dtype: int64"
            ]
          },
          "metadata": {},
          "execution_count": 72
        }
      ]
    },
    {
      "cell_type": "code",
      "source": [
        "height_ser.plot()"
      ],
      "metadata": {
        "colab": {
          "base_uri": "https://localhost:8080/",
          "height": 447
        },
        "id": "ZgF_GDo5jhgf",
        "outputId": "b4d9f576-7c32-408d-da5d-2b4eee162078"
      },
      "execution_count": 73,
      "outputs": [
        {
          "output_type": "execute_result",
          "data": {
            "text/plain": [
              "<Axes: >"
            ]
          },
          "metadata": {},
          "execution_count": 73
        },
        {
          "output_type": "display_data",
          "data": {
            "text/plain": [
              "<Figure size 640x480 with 1 Axes>"
            ],
            "image/png": "[encoded data removed]"
          },
          "metadata": {}
        }
      ]
    },
    {
      "cell_type": "code",
      "source": [
        "# Done."
      ],
      "metadata": {
        "id": "1qJylrfBjhjC"
      },
      "execution_count": null,
      "outputs": []
    }
  ]
}