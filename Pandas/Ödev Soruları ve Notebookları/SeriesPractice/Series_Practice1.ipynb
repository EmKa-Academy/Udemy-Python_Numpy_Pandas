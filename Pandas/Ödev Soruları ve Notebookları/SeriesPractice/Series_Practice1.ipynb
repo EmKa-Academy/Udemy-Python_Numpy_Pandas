{
 "cells": [
  {
   "attachments": {},
   "cell_type": "markdown",
   "metadata": {},
   "source": [
    "# EmKa Academy"
   ]
  },
  {
   "attachments": {},
   "cell_type": "markdown",
   "metadata": {},
   "source": [
    "## UYARI ! : Lütfen çıktının olduğu kod hücresini çalıştırmayın, aksi takdirde almanız gereken çıktı görüntüsünü kaybedebilirsiniz."
   ]
  },
  {
   "attachments": {},
   "cell_type": "markdown",
   "metadata": {},
   "source": [
    "- Evrensel kısaltmaları kullanarak numpy ve pandas kütüphanelerini import ediniz."
   ]
  },
  {
   "cell_type": "code",
   "execution_count": 2,
   "metadata": {},
   "outputs": [],
   "source": [
    "import numpy as np\n",
    "import pandas as pd"
   ]
  },
  {
   "attachments": {},
   "cell_type": "markdown",
   "metadata": {},
   "source": [
    "Soru 1 : İndexleri default, değerleri 'Ali' , 'Sibel' ve sizin isminizden oluşan 3 değerlik bir series oluşturun."
   ]
  },
  {
   "cell_type": "code",
   "execution_count": null,
   "metadata": {},
   "outputs": [],
   "source": [
    "# Kodlarını buraya yazabilirsin"
   ]
  },
  {
   "cell_type": "code",
   "execution_count": 3,
   "metadata": {},
   "outputs": [
    {
     "data": {
      "text/plain": [
       "0        Ali\n",
       "1      Sibel\n",
       "2    Emincan\n",
       "dtype: object"
      ]
     },
     "execution_count": 3,
     "metadata": {},
     "output_type": "execute_result"
    }
   ],
   "source": [
    "# ! Buraya kod yazma "
   ]
  },
  {
   "attachments": {},
   "cell_type": "markdown",
   "metadata": {},
   "source": [
    "Soru 2 : Indexleri \"A\" , \"B\" , \"C\" , \"D\" olan ve değerleri 10,20,30,40 olan bir series oluşturun."
   ]
  },
  {
   "cell_type": "code",
   "execution_count": null,
   "metadata": {},
   "outputs": [],
   "source": [
    "# Kodlarını buraya yazabilirsin"
   ]
  },
  {
   "cell_type": "code",
   "execution_count": 4,
   "metadata": {},
   "outputs": [
    {
     "data": {
      "text/plain": [
       "A    10\n",
       "B    20\n",
       "C    30\n",
       "D    40\n",
       "dtype: int64"
      ]
     },
     "execution_count": 4,
     "metadata": {},
     "output_type": "execute_result"
    }
   ],
   "source": [
    "# ! Buraya kod yazma "
   ]
  },
  {
   "attachments": {},
   "cell_type": "markdown",
   "metadata": {},
   "source": [
    "Soru 3 : İndexlerinde \"Breaking Bad\" , \"Chernobyl\" , \"Leyla ile Mecnun\" , \"X-Men\"  , \"Captain America\"  , \"Disaster Movie\" olan \n",
    "\n",
    "   Datasında ise 9.4 , 9.3 , 8.8 , 8.4 , 3.8 , 2.1 olan bir seri oluşturun."
   ]
  },
  {
   "cell_type": "code",
   "execution_count": null,
   "metadata": {},
   "outputs": [],
   "source": []
  },
  {
   "cell_type": "code",
   "execution_count": 5,
   "metadata": {},
   "outputs": [
    {
     "data": {
      "text/plain": [
       "Breaking Bad        9.4\n",
       "Chernobyl           9.3\n",
       "Leyla ile Mecnun    8.8\n",
       "X-Men               8.4\n",
       "Captain America     3.8\n",
       "Disaster Movie      2.1\n",
       "dtype: float64"
      ]
     },
     "execution_count": 5,
     "metadata": {},
     "output_type": "execute_result"
    }
   ],
   "source": [
    "# ! Buraya kod yazma "
   ]
  },
  {
   "attachments": {},
   "cell_type": "markdown",
   "metadata": {},
   "source": [
    "Soru 4 : donem1_mat adında bir seri oluşturun. Bu serinin içinde \"Mert\" ,\"Esila\" ,\"Aslı\" ,\"Burak\" ,\"Kerem\" ,\"Yasemin\" ,\"Hazal\" index değerleri olsun, \n",
    "   Datasında ise 85, 80 , 94 , 74 , 91 , 96 , 70 değerleri olsun. \n",
    "   \n",
    "   Bu şekilde donem1 adında öğrencilerin 1.dönem matematik not ortalamalarının tutulduğu bir seri oluşturun.\n"
   ]
  },
  {
   "cell_type": "code",
   "execution_count": null,
   "metadata": {},
   "outputs": [],
   "source": []
  },
  {
   "cell_type": "code",
   "execution_count": 7,
   "metadata": {},
   "outputs": [
    {
     "data": {
      "text/plain": [
       "Mert       85\n",
       "Esila      80\n",
       "Aslı       94\n",
       "Burak      74\n",
       "Kerem      91\n",
       "Yasemin    96\n",
       "Hazal      70\n",
       "dtype: int64"
      ]
     },
     "execution_count": 7,
     "metadata": {},
     "output_type": "execute_result"
    }
   ],
   "source": [
    "# ! Buraya kod yazma "
   ]
  },
  {
   "attachments": {},
   "cell_type": "markdown",
   "metadata": {},
   "source": [
    "Soru 5: donem1_mat serisini değerlerine göre büyükten küçüğe sıralayın."
   ]
  },
  {
   "cell_type": "code",
   "execution_count": null,
   "metadata": {},
   "outputs": [],
   "source": []
  },
  {
   "cell_type": "code",
   "execution_count": 9,
   "metadata": {},
   "outputs": [
    {
     "data": {
      "text/plain": [
       "Yasemin    96\n",
       "Aslı       94\n",
       "Kerem      91\n",
       "Mert       85\n",
       "Esila      80\n",
       "Burak      74\n",
       "Hazal      70\n",
       "dtype: int64"
      ]
     },
     "execution_count": 9,
     "metadata": {},
     "output_type": "execute_result"
    }
   ],
   "source": [
    "# ! Buraya kod yazma "
   ]
  },
  {
   "attachments": {},
   "cell_type": "markdown",
   "metadata": {},
   "source": [
    "Soru 6: donem1_mat serisinin en düşük not almış 2 öğrencisini getirtin"
   ]
  },
  {
   "cell_type": "code",
   "execution_count": null,
   "metadata": {},
   "outputs": [],
   "source": []
  },
  {
   "cell_type": "code",
   "execution_count": 11,
   "metadata": {},
   "outputs": [
    {
     "data": {
      "text/plain": [
       "Burak    74\n",
       "Hazal    70\n",
       "dtype: int64"
      ]
     },
     "execution_count": 11,
     "metadata": {},
     "output_type": "execute_result"
    }
   ],
   "source": [
    "# ! Buraya kod yazma "
   ]
  },
  {
   "attachments": {},
   "cell_type": "markdown",
   "metadata": {},
   "source": [
    "Soru 7: donem1_mat serisinin istatistiksel özelliklerine bakın"
   ]
  },
  {
   "cell_type": "code",
   "execution_count": null,
   "metadata": {},
   "outputs": [],
   "source": []
  },
  {
   "cell_type": "code",
   "execution_count": 12,
   "metadata": {},
   "outputs": [
    {
     "data": {
      "text/plain": [
       "count     7.000000\n",
       "mean     84.285714\n",
       "std      10.045136\n",
       "min      70.000000\n",
       "25%      77.000000\n",
       "50%      85.000000\n",
       "75%      92.500000\n",
       "max      96.000000\n",
       "dtype: float64"
      ]
     },
     "execution_count": 12,
     "metadata": {},
     "output_type": "execute_result"
    }
   ],
   "source": []
  },
  {
   "attachments": {},
   "cell_type": "markdown",
   "metadata": {},
   "source": [
    "Soru 8: donem1_mat serisinin eşsiz değerlerine bakın."
   ]
  },
  {
   "cell_type": "code",
   "execution_count": null,
   "metadata": {},
   "outputs": [],
   "source": []
  },
  {
   "cell_type": "code",
   "execution_count": 13,
   "metadata": {},
   "outputs": [
    {
     "data": {
      "text/plain": [
       "array([85, 80, 94, 74, 91, 96, 70], dtype=int64)"
      ]
     },
     "execution_count": 13,
     "metadata": {},
     "output_type": "execute_result"
    }
   ],
   "source": [
    "# ! Buraya kod yazma "
   ]
  },
  {
   "attachments": {},
   "cell_type": "markdown",
   "metadata": {},
   "source": [
    "Soru 9: donem1_mat serisinde\n",
    "\n",
    "Notu 90 ve üstü olanlara 3 puan,\n",
    "\n",
    "notu 80 ve üstü olanlara 5 puan,\n",
    "\n",
    "notu 70 ve üstü olanlara 8 puan ekleyin"
   ]
  },
  {
   "cell_type": "code",
   "execution_count": null,
   "metadata": {},
   "outputs": [],
   "source": []
  },
  {
   "cell_type": "code",
   "execution_count": 14,
   "metadata": {},
   "outputs": [
    {
     "data": {
      "text/plain": [
       "Mert       90\n",
       "Esila      85\n",
       "Aslı       97\n",
       "Burak      82\n",
       "Kerem      94\n",
       "Yasemin    99\n",
       "Hazal      78\n",
       "dtype: int64"
      ]
     },
     "execution_count": 14,
     "metadata": {},
     "output_type": "execute_result"
    }
   ],
   "source": [
    "# ! Buraya kod yazma "
   ]
  },
  {
   "attachments": {},
   "cell_type": "markdown",
   "metadata": {},
   "source": [
    "Soru 10: donem1_mat serisini plot ederek öğrenci notlarını inceleyin."
   ]
  },
  {
   "cell_type": "code",
   "execution_count": null,
   "metadata": {},
   "outputs": [],
   "source": []
  },
  {
   "cell_type": "code",
   "execution_count": 15,
   "metadata": {},
   "outputs": [
    {
     "data": {
      "text/plain": [
       "<Axes: >"
      ]
     },
     "execution_count": 15,
     "metadata": {},
     "output_type": "execute_result"
    },
    {
     "data": {
      "image/png": "[encoded data removed]",
      "text/plain": [
       "<Figure size 640x480 with 1 Axes>"
      ]
     },
     "metadata": {},
     "output_type": "display_data"
    }
   ],
   "source": [
    "# ! Buraya kod yazma "
   ]
  },
  {
   "attachments": {},
   "cell_type": "markdown",
   "metadata": {},
   "source": [
    "## Başarılar !"
   ]
  },
  {
   "attachments": {},
   "cell_type": "markdown",
   "metadata": {},
   "source": [
    "# EmKa Academy"
   ]
  }
 ],
 "metadata": {
  "kernelspec": {
   "display_name": "Python 3",
   "language": "python",
   "name": "python3"
  },
  "language_info": {
   "codemirror_mode": {
    "name": "ipython",
    "version": 3
   },
   "file_extension": ".py",
   "mimetype": "text/x-python",
   "name": "python",
   "nbconvert_exporter": "python",
   "pygments_lexer": "ipython3",
   "version": "3.10.10"
  },
  "orig_nbformat": 4
 },
 "nbformat": 4,
 "nbformat_minor": 2
}
