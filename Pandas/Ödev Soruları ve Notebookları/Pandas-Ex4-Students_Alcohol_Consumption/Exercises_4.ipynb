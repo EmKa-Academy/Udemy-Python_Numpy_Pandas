{
 "cells": [
  {
   "attachments": {},
   "cell_type": "markdown",
   "metadata": {},
   "source": [
    "# EmKa Academy"
   ]
  },
  {
   "attachments": {},
   "cell_type": "markdown",
   "metadata": {},
   "source": [
    "#### Burada Kullanılan Datayı [UCI](https://archive.ics.uci.edu/ml/index.php) üzerinden edindim. 'UCI' University of California, Irvine kısaltması. Büyük bir üniversite ve binlerce dataseti bulunuyor. Kaggle kadar kapsamlı değil fakat sadece dataset edinme özelinde Kaggle ile yarışır."
   ]
  },
  {
   "attachments": {},
   "cell_type": "markdown",
   "metadata": {},
   "source": [
    "### Açıklama\n",
    "\n",
    "Bu seferki datasetini çok tasvip etmiyoruz çünkü öğrencilerin Alkol kullanımıyla alakalı bir dataseti. Alkol'ün her dozu zararlıdır, en baştan belirtelim."
   ]
  },
  {
   "attachments": {},
   "cell_type": "markdown",
   "metadata": {},
   "source": [
    "# Exercise 4"
   ]
  },
  {
   "attachments": {},
   "cell_type": "markdown",
   "metadata": {},
   "source": [
    "### Step 1. Gerekli Kütüphaneleri Import Edin"
   ]
  },
  {
   "cell_type": "code",
   "execution_count": null,
   "metadata": {},
   "outputs": [],
   "source": []
  },
  {
   "attachments": {},
   "cell_type": "markdown",
   "metadata": {},
   "source": [
    "### Step 2. Gerekli datasetini doğrudan yandaki linkten import edin [address](https://raw.githubusercontent.com/guipsamora/pandas_exercises/master/04_Apply/Students_Alcohol_Consumption/student-mat.csv)."
   ]
  },
  {
   "attachments": {},
   "cell_type": "markdown",
   "metadata": {},
   "source": [
    "### Step 3. 'df' adında bir dataframe ismine eşitleyelim"
   ]
  },
  {
   "cell_type": "code",
   "execution_count": null,
   "metadata": {
    "collapsed": false
   },
   "outputs": [],
   "source": []
  },
  {
   "attachments": {},
   "cell_type": "markdown",
   "metadata": {},
   "source": [
    "### Step 4. 'school' sütunundan 'guardian' sütununa kadar olan bütün sütunları çekin. ('guardian' sütunu da dahil.) ve bunları 'stud_alcoh' adında yeni bir df'e eşitleyin"
   ]
  },
  {
   "cell_type": "code",
   "execution_count": null,
   "metadata": {
    "collapsed": false
   },
   "outputs": [],
   "source": []
  },
  {
   "attachments": {},
   "cell_type": "markdown",
   "metadata": {},
   "source": [
    "### Step 5. İçine giren string ifadelerin baş harflerini büyük yapan basit bir lambda fonksiyonu tanımlayın ve bunu capitalizer ismine atayın.(lambda fonksiyonu tanımlamayı bilmiyorsanız def ile de tanımlayabilirsiniz, daha sonra video çözümünü izleyin)"
   ]
  },
  {
   "cell_type": "code",
   "execution_count": null,
   "metadata": {
    "collapsed": false
   },
   "outputs": [],
   "source": []
  },
  {
   "attachments": {},
   "cell_type": "markdown",
   "metadata": {},
   "source": [
    "### Step 6. Oluşturduğumuz capitalizer lambda fonksiyonunu 'Mjob' ve 'Fjob' sütunlarına uygulayarak(apply) bu sütundaki değerlerin baş harflerini büyük hale getirelim."
   ]
  },
  {
   "cell_type": "code",
   "execution_count": null,
   "metadata": {
    "collapsed": false
   },
   "outputs": [],
   "source": []
  },
  {
   "attachments": {},
   "cell_type": "markdown",
   "metadata": {},
   "source": [
    "### Step 7. Datamızın son 5 satırını yazdıralım"
   ]
  },
  {
   "cell_type": "code",
   "execution_count": null,
   "metadata": {
    "collapsed": false
   },
   "outputs": [],
   "source": []
  },
  {
   "attachments": {},
   "cell_type": "markdown",
   "metadata": {},
   "source": [
    "### Step 8. Fark ettiyseniz 'Mjob' ve 'Fjob' sütunları halen daha küçük harflerden oluşuyor. Yani üstte yaptığımız işlem kalıcı olmamış. Bu sorunu çözün ve 6.Adımda yaptığımız işlemi kalıcı hale getirin."
   ]
  },
  {
   "cell_type": "code",
   "execution_count": null,
   "metadata": {
    "collapsed": false
   },
   "outputs": [],
   "source": []
  },
  {
   "attachments": {},
   "cell_type": "markdown",
   "metadata": {},
   "source": [
    "### Step 9. majority adında bir fonksiyon oluşturun.(def ile oluşturabilirsiniz.) Bu fonksiyonu 'age' sütununa uygulayacağız(apply) edeceğiz. Yani fonksiyonumuza integer yaş değerleri girecek. Fonksiyon ise içine giren bu değerler 17'den büyük ise True, eşit ya da küçük ise False döndürecek.\n",
    "\n",
    "### Devamında bu fonksiyon yardımıyla 'legal_drinker' sütunu oluşturun ve yaşı 17'den büyükler için True, 17'ye eşit ve küçükler için False değerleri tutan bir sütun olsun."
   ]
  },
  {
   "cell_type": "code",
   "execution_count": null,
   "metadata": {
    "collapsed": false
   },
   "outputs": [],
   "source": []
  },
  {
   "cell_type": "code",
   "execution_count": null,
   "metadata": {
    "collapsed": false
   },
   "outputs": [],
   "source": []
  },
  {
   "attachments": {},
   "cell_type": "markdown",
   "metadata": {},
   "source": [
    "### Step 10. Dataset içindeki her sayıyı 10 ile çarpın.\n",
    "##### Burda yapılan işlem son derece mantıksız. Sadece bir egzersiz olması açısından sordum bu soruyu."
   ]
  },
  {
   "cell_type": "code",
   "execution_count": null,
   "metadata": {
    "collapsed": false
   },
   "outputs": [],
   "source": []
  },
  {
   "cell_type": "code",
   "execution_count": null,
   "metadata": {
    "collapsed": false
   },
   "outputs": [],
   "source": []
  }
 ],
 "metadata": {
  "anaconda-cloud": {},
  "kernelspec": {
   "display_name": "Python [default]",
   "language": "python",
   "name": "python2"
  },
  "language_info": {
   "codemirror_mode": {
    "name": "ipython",
    "version": 2
   },
   "file_extension": ".py",
   "mimetype": "text/x-python",
   "name": "python",
   "nbconvert_exporter": "python",
   "pygments_lexer": "ipython2",
   "version": "2.7.12"
  }
 },
 "nbformat": 4,
 "nbformat_minor": 0
}
