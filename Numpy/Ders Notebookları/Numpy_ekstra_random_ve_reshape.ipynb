{
  "nbformat": 4,
  "nbformat_minor": 0,
  "metadata": {
    "colab": {
      "provenance": []
    },
    "kernelspec": {
      "name": "python3",
      "display_name": "Python 3"
    },
    "language_info": {
      "name": "python"
    }
  },
  "cells": [
    {
      "cell_type": "code",
      "execution_count": 12,
      "metadata": {
        "colab": {
          "base_uri": "https://localhost:8080/",
          "height": 35
        },
        "id": "Q5RpICurg6WG",
        "outputId": "114367da-1646-4da8-8f16-8acc4836951e"
      },
      "outputs": [
        {
          "output_type": "execute_result",
          "data": {
            "text/plain": [
              "'1.22.4'"
            ],
            "application/vnd.google.colaboratory.intrinsic+json": {
              "type": "string"
            }
          },
          "metadata": {},
          "execution_count": 12
        }
      ],
      "source": [
        "import numpy as np\n",
        "import matplotlib.pyplot as plt\n",
        "np.__version__"
      ]
    },
    {
      "cell_type": "code",
      "source": [
        "arr = np.random.uniform(low=0, high=10, size = 10000)\n",
        "arr"
      ],
      "metadata": {
        "colab": {
          "base_uri": "https://localhost:8080/"
        },
        "id": "0lpzS9-jhX6B",
        "outputId": "fd58b3d6-2b99-4274-cde5-86c4c7d50950"
      },
      "execution_count": 22,
      "outputs": [
        {
          "output_type": "execute_result",
          "data": {
            "text/plain": [
              "array([7.13323204, 3.9947207 , 5.39118888, ..., 5.8700425 , 8.43764095,\n",
              "       8.64143509])"
            ]
          },
          "metadata": {},
          "execution_count": 22
        }
      ]
    },
    {
      "cell_type": "code",
      "source": [
        "np.shape(arr)"
      ],
      "metadata": {
        "colab": {
          "base_uri": "https://localhost:8080/"
        },
        "id": "CQj7gTo3h1O-",
        "outputId": "e1abfefa-be0e-4221-b74f-5c3ebb121516"
      },
      "execution_count": 14,
      "outputs": [
        {
          "output_type": "execute_result",
          "data": {
            "text/plain": [
              "(100,)"
            ]
          },
          "metadata": {},
          "execution_count": 14
        }
      ]
    },
    {
      "cell_type": "code",
      "source": [
        "len(arr[arr < 1])"
      ],
      "metadata": {
        "colab": {
          "base_uri": "https://localhost:8080/"
        },
        "id": "0U-eaGpliSrN",
        "outputId": "8bb068b5-76aa-4953-dcd3-cf88fc570712"
      },
      "execution_count": 19,
      "outputs": [
        {
          "output_type": "execute_result",
          "data": {
            "text/plain": [
              "11"
            ]
          },
          "metadata": {},
          "execution_count": 19
        }
      ]
    },
    {
      "cell_type": "code",
      "source": [
        "plt.hist(arr)"
      ],
      "metadata": {
        "colab": {
          "base_uri": "https://localhost:8080/",
          "height": 534
        },
        "id": "LwrHQqP1iJzE",
        "outputId": "18464960-a164-4b31-f6a9-b16f75beaa64"
      },
      "execution_count": 23,
      "outputs": [
        {
          "output_type": "execute_result",
          "data": {
            "text/plain": [
              "(array([ 959.,  991.,  996.,  973., 1010., 1009., 1034., 1031.,  984.,\n",
              "        1013.]),\n",
              " array([2.79474363e-04, 1.00023149e+00, 2.00018350e+00, 3.00013551e+00,\n",
              "        4.00008752e+00, 5.00003953e+00, 5.99999154e+00, 6.99994355e+00,\n",
              "        7.99989556e+00, 8.99984757e+00, 9.99979958e+00]),\n",
              " <BarContainer object of 10 artists>)"
            ]
          },
          "metadata": {},
          "execution_count": 23
        },
        {
          "output_type": "display_data",
          "data": {
            "text/plain": [
              "<Figure size 640x480 with 1 Axes>"
            ],
            "image/png": "[encoded data removed]"
          },
          "metadata": {}
        }
      ]
    },
    {
      "cell_type": "code",
      "source": [
        "arr2 = np.random.normal(loc = 5, scale = 20, size = 10000)"
      ],
      "metadata": {
        "id": "R3C3i0CXh_jm"
      },
      "execution_count": 26,
      "outputs": []
    },
    {
      "cell_type": "code",
      "source": [
        "plt.hist(arr2);"
      ],
      "metadata": {
        "colab": {
          "base_uri": "https://localhost:8080/",
          "height": 430
        },
        "id": "ygFos2fii6I6",
        "outputId": "b55457c9-2f60-43ab-f529-d4c959be0ce6"
      },
      "execution_count": 27,
      "outputs": [
        {
          "output_type": "display_data",
          "data": {
            "text/plain": [
              "<Figure size 640x480 with 1 Axes>"
            ],
            "image/png": "[encoded data removed]"
          },
          "metadata": {}
        }
      ]
    },
    {
      "cell_type": "code",
      "source": [
        "# standard normal distribution\n",
        "np.random.randn(2, 3, 2)"
      ],
      "metadata": {
        "colab": {
          "base_uri": "https://localhost:8080/"
        },
        "id": "Kp7HM1Y0jKmi",
        "outputId": "af6efb3f-7637-4d59-d17e-c9e63e956e9a"
      },
      "execution_count": 32,
      "outputs": [
        {
          "output_type": "execute_result",
          "data": {
            "text/plain": [
              "array([[[-0.10792631,  0.3635553 ],\n",
              "        [ 1.00779437, -0.45828664],\n",
              "        [ 0.75908503,  1.36711244]],\n",
              "\n",
              "       [[-2.64313187, -0.03660704],\n",
              "        [-1.70295053, -1.27779744],\n",
              "        [ 1.63665426, -0.44410955]]])"
            ]
          },
          "metadata": {},
          "execution_count": 32
        }
      ]
    },
    {
      "cell_type": "code",
      "source": [
        "np.random.randint(5, 10, 100)"
      ],
      "metadata": {
        "colab": {
          "base_uri": "https://localhost:8080/"
        },
        "id": "vZCG8NPGjeFR",
        "outputId": "55f97da1-f53c-42d6-9578-b4288b055697"
      },
      "execution_count": 41,
      "outputs": [
        {
          "output_type": "execute_result",
          "data": {
            "text/plain": [
              "array([9, 6, 8, 9, 8, 9, 8, 9, 8, 6, 7, 9, 6, 6, 9, 5, 6, 7, 7, 5, 9, 6,\n",
              "       5, 7, 5, 6, 6, 7, 6, 9, 6, 7, 8, 5, 9, 9, 8, 5, 6, 6, 6, 7, 7, 9,\n",
              "       6, 7, 8, 7, 7, 7, 7, 9, 8, 8, 6, 8, 7, 6, 9, 8, 7, 8, 7, 7, 6, 7,\n",
              "       9, 9, 5, 8, 7, 8, 7, 5, 7, 6, 8, 9, 6, 9, 7, 9, 6, 9, 8, 9, 8, 5,\n",
              "       9, 5, 7, 7, 8, 8, 8, 6, 9, 8, 6, 8])"
            ]
          },
          "metadata": {},
          "execution_count": 41
        }
      ]
    },
    {
      "cell_type": "code",
      "source": [
        "arr = np.random.uniform(low=0, high=10, size = 20)\n",
        "arr"
      ],
      "metadata": {
        "colab": {
          "base_uri": "https://localhost:8080/"
        },
        "id": "DaMFdTsRkE50",
        "outputId": "184fee67-b1fd-4012-d845-8daf404d1707"
      },
      "execution_count": 48,
      "outputs": [
        {
          "output_type": "execute_result",
          "data": {
            "text/plain": [
              "array([2.69654196, 7.6732633 , 5.79828475, 8.30699946, 3.64516735,\n",
              "       8.4340129 , 2.64373179, 9.28475664, 0.54757802, 0.85815942,\n",
              "       6.22463802, 4.19550251, 2.05429889, 2.07804516, 7.83207047,\n",
              "       7.22936532, 1.28616214, 8.86980855, 1.46492857, 4.8440391 ])"
            ]
          },
          "metadata": {},
          "execution_count": 48
        }
      ]
    },
    {
      "cell_type": "code",
      "source": [
        "arr.shape"
      ],
      "metadata": {
        "colab": {
          "base_uri": "https://localhost:8080/"
        },
        "id": "CKKTGI88kIxQ",
        "outputId": "0e1c8fd7-17d5-4146-e07a-542344db1ae8"
      },
      "execution_count": 49,
      "outputs": [
        {
          "output_type": "execute_result",
          "data": {
            "text/plain": [
              "(20,)"
            ]
          },
          "metadata": {},
          "execution_count": 49
        }
      ]
    },
    {
      "cell_type": "markdown",
      "source": [
        "Reshape'de yapılan hatalar:\n",
        " - Reshape != Resize\n",
        "   - Machine learningte sıkça yapılan hatalardan."
      ],
      "metadata": {
        "id": "6Y0XetEmkZbz"
      }
    },
    {
      "cell_type": "code",
      "source": [
        "arr.reshape((2, 10))"
      ],
      "metadata": {
        "colab": {
          "base_uri": "https://localhost:8080/"
        },
        "id": "eTuGq3sfkNfh",
        "outputId": "5122333e-2c3e-4870-86dc-8754dbaf5d0f"
      },
      "execution_count": 50,
      "outputs": [
        {
          "output_type": "execute_result",
          "data": {
            "text/plain": [
              "array([[2.69654196, 7.6732633 , 5.79828475, 8.30699946, 3.64516735,\n",
              "        8.4340129 , 2.64373179, 9.28475664, 0.54757802, 0.85815942],\n",
              "       [6.22463802, 4.19550251, 2.05429889, 2.07804516, 7.83207047,\n",
              "        7.22936532, 1.28616214, 8.86980855, 1.46492857, 4.8440391 ]])"
            ]
          },
          "metadata": {},
          "execution_count": 50
        }
      ]
    },
    {
      "cell_type": "code",
      "source": [
        "arr.reshape((4, 5))"
      ],
      "metadata": {
        "colab": {
          "base_uri": "https://localhost:8080/"
        },
        "id": "7bnSX9jcknTy",
        "outputId": "61f5af0d-7168-41c6-bcaa-99b299aac70c"
      },
      "execution_count": 51,
      "outputs": [
        {
          "output_type": "execute_result",
          "data": {
            "text/plain": [
              "array([[2.69654196, 7.6732633 , 5.79828475, 8.30699946, 3.64516735],\n",
              "       [8.4340129 , 2.64373179, 9.28475664, 0.54757802, 0.85815942],\n",
              "       [6.22463802, 4.19550251, 2.05429889, 2.07804516, 7.83207047],\n",
              "       [7.22936532, 1.28616214, 8.86980855, 1.46492857, 4.8440391 ]])"
            ]
          },
          "metadata": {},
          "execution_count": 51
        }
      ]
    },
    {
      "cell_type": "code",
      "source": [
        "arr.reshape((5, 4))"
      ],
      "metadata": {
        "colab": {
          "base_uri": "https://localhost:8080/"
        },
        "id": "vVAp4-zmkpK1",
        "outputId": "b4f1f820-13db-46a5-f96f-d8e7033a5488"
      },
      "execution_count": 52,
      "outputs": [
        {
          "output_type": "execute_result",
          "data": {
            "text/plain": [
              "array([[2.69654196, 7.6732633 , 5.79828475, 8.30699946],\n",
              "       [3.64516735, 8.4340129 , 2.64373179, 9.28475664],\n",
              "       [0.54757802, 0.85815942, 6.22463802, 4.19550251],\n",
              "       [2.05429889, 2.07804516, 7.83207047, 7.22936532],\n",
              "       [1.28616214, 8.86980855, 1.46492857, 4.8440391 ]])"
            ]
          },
          "metadata": {},
          "execution_count": 52
        }
      ]
    },
    {
      "cell_type": "code",
      "source": [
        "arr.reshape((3, 4))"
      ],
      "metadata": {
        "colab": {
          "base_uri": "https://localhost:8080/",
          "height": 166
        },
        "id": "clP_QuApkq90",
        "outputId": "82ca28e8-73b7-4ca2-bfd6-132d74b21227"
      },
      "execution_count": 54,
      "outputs": [
        {
          "output_type": "error",
          "ename": "ValueError",
          "evalue": "ignored",
          "traceback": [
            "\u001b[0;31m---------------------------------------------------------------------------\u001b[0m",
            "\u001b[0;31mValueError\u001b[0m                                Traceback (most recent call last)",
            "\u001b[0;32m<ipython-input-54-5ce6afb5b8b7>\u001b[0m in \u001b[0;36m<cell line: 1>\u001b[0;34m()\u001b[0m\n\u001b[0;32m----> 1\u001b[0;31m \u001b[0marr\u001b[0m\u001b[0;34m.\u001b[0m\u001b[0mreshape\u001b[0m\u001b[0;34m(\u001b[0m\u001b[0;34m(\u001b[0m\u001b[0;36m3\u001b[0m\u001b[0;34m,\u001b[0m \u001b[0;36m4\u001b[0m\u001b[0;34m)\u001b[0m\u001b[0;34m)\u001b[0m\u001b[0;34m\u001b[0m\u001b[0;34m\u001b[0m\u001b[0m\n\u001b[0m",
            "\u001b[0;31mValueError\u001b[0m: cannot reshape array of size 20 into shape (3,4)"
          ]
        }
      ]
    }
  ]
}